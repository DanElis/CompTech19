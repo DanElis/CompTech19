{
 "cells": [
  {
   "cell_type": "code",
   "execution_count": 2,
   "metadata": {},
   "outputs": [
    {
     "name": "stderr",
     "output_type": "stream",
     "text": [
      "Using TensorFlow backend.\n"
     ]
    }
   ],
   "source": [
    "import sys\n",
    "import os\n",
    "import numpy as np\n",
    "import scipy as sp\n",
    "import pandas as pd\n",
    "\n",
    "%matplotlib inline  \n",
    "import pickle\n",
    "import pylab as plt\n",
    "import utils as ut     \n",
    "import keras\n"
   ]
  },
  {
   "cell_type": "code",
   "execution_count": 3,
   "metadata": {},
   "outputs": [],
   "source": [
    "path='data/Lapteva_faults_10k.pickle'\n",
    "with open(path, 'rb') as f:\n",
    "    data_set = pickle.load(f)\n",
    "    \n",
    "X_set = data_set['X_set']\n",
    "y_set = data_set['y_set']\n",
    "titles = data_set['fault_title']  \n",
    "# titles work only for initial data\n"
   ]
  },
  {
   "cell_type": "code",
   "execution_count": 118,
   "metadata": {},
   "outputs": [],
   "source": [
    "from keras.preprocessing.image import ImageDataGenerator, array_to_img, img_to_array, load_img\n",
    "\n",
    "datagen = ImageDataGenerator(\n",
    "        rotation_range=20,\n",
    "        width_shift_range=0.2,\n",
    "        height_shift_range=0.2,\n",
    "        shear_range=0,\n",
    "        zoom_range=[0.8, 1.2],\n",
    "        horizontal_flip=True,\n",
    "        fill_mode='reflect',\n",
    "        featurewise_center=False)\n",
    "\n",
    "x = X_set.reshape(X_set.shape + (1,)) \n",
    "y = y_set.reshape(y_set.shape + (1,))\n",
    "\n",
    "def fixed_generator(x, y, batch_size=5):\n",
    "    gen1 = datagen.flow(x, batch_size=batch_size,\n",
    "                          save_to_dir='preview', save_prefix='sample', save_format='jpeg', seed=55)\n",
    "    gen2 = datagen.flow(y, batch_size=batch_size,\n",
    "                          save_to_dir='preview', save_prefix='label', save_format='jpeg', seed=55)\n",
    "    i = 0\n",
    "    for batch1, batch2 in zip(gen1, gen2):\n",
    "        i += 1\n",
    "        yield((batch1, batch2))\n",
    "        if i >= batch_size:\n",
    "            break"
   ]
  },
  {
   "cell_type": "code",
   "execution_count": 1,
   "metadata": {},
   "outputs": [
    {
     "ename": "NameError",
     "evalue": "name 'fixed_generator' is not defined",
     "output_type": "error",
     "traceback": [
      "\u001b[0;31m---------------------------------------------------------------------------\u001b[0m",
      "\u001b[0;31mNameError\u001b[0m                                 Traceback (most recent call last)",
      "\u001b[0;32m<ipython-input-1-08898a7a8544>\u001b[0m in \u001b[0;36m<module>\u001b[0;34m\u001b[0m\n\u001b[0;32m----> 1\u001b[0;31m \u001b[0mgen\u001b[0m \u001b[0;34m=\u001b[0m \u001b[0mfixed_generator\u001b[0m\u001b[0;34m(\u001b[0m\u001b[0mx\u001b[0m\u001b[0;34m,\u001b[0m \u001b[0my\u001b[0m\u001b[0;34m,\u001b[0m \u001b[0mbatch_size\u001b[0m\u001b[0;34m=\u001b[0m\u001b[0;36m5\u001b[0m\u001b[0;34m)\u001b[0m  \u001b[0;31m# gen - generator which can be placed in model.fit_generator\u001b[0m\u001b[0;34m\u001b[0m\u001b[0;34m\u001b[0m\u001b[0m\n\u001b[0m\u001b[1;32m      2\u001b[0m \u001b[0mgen\u001b[0m\u001b[0;34m[\u001b[0m\u001b[0;34m:\u001b[0m\u001b[0;34m,\u001b[0m \u001b[0;34m:\u001b[0m\u001b[0;34m,\u001b[0m \u001b[0;34m:\u001b[0m\u001b[0;34m,\u001b[0m \u001b[0;36m0\u001b[0m\u001b[0;34m]\u001b[0m\u001b[0;34m\u001b[0m\u001b[0;34m\u001b[0m\u001b[0m\n",
      "\u001b[0;31mNameError\u001b[0m: name 'fixed_generator' is not defined"
     ]
    }
   ],
   "source": [
    "gen = fixed_generator(x, y, batch_size=5)  # gen - generator which can be placed in model.fit_generator"
   ]
  }
 ],
 "metadata": {
  "kernelspec": {
   "display_name": "Python 3",
   "language": "python",
   "name": "python3"
  },
  "language_info": {
   "codemirror_mode": {
    "name": "ipython",
    "version": 3
   },
   "file_extension": ".py",
   "mimetype": "text/x-python",
   "name": "python",
   "nbconvert_exporter": "python",
   "pygments_lexer": "ipython3",
   "version": "3.6.7"
  }
 },
 "nbformat": 4,
 "nbformat_minor": 2
}
